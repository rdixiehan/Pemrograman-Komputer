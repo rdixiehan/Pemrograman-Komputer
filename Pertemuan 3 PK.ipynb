{
 "cells": [
  {
   "cell_type": "markdown",
   "metadata": {},
   "source": [
    "# PERTEMUAN 3"
   ]
  },
  {
   "cell_type": "code",
   "execution_count": 2,
   "metadata": {},
   "outputs": [
    {
     "name": "stdout",
     "output_type": "stream",
     "text": [
      "Halo, Dysya\n",
      "Umur Anda: 19\n",
      "IPK Anda: 4.0\n"
     ]
    }
   ],
   "source": [
    "# Contoh Input String\n",
    "nama = input(\"Masukkan nama Anda: \")\n",
    "print(\"Halo,\", nama)\n",
    "\n",
    "\n",
    "# Contoh Input Integer\n",
    "umur = int(input(\"Masukkan umur bulat: \"))\n",
    "print(\"Umur Anda:\", umur)\n",
    "\n",
    "\n",
    "# Contoh Input Float\n",
    "ipk = float(input(\"Masukkan ipk: \"))\n",
    "print(\"IPK Anda:\", ipk)  "
   ]
  },
  {
   "cell_type": "markdown",
   "metadata": {},
   "source": [
    "# Contoh Input yang dipisahkan spasi"
   ]
  },
  {
   "cell_type": "code",
   "execution_count": 3,
   "metadata": {},
   "outputs": [
    {
     "name": "stdout",
     "output_type": "stream",
     "text": [
      "Bilangan pertama: 2\n",
      "Bilangan kedua: 3\n"
     ]
    }
   ],
   "source": [
    "bil = input(\"Masukkan dua bilangan bulat dipisahkan oleh spasi: \")\n",
    "# Membagi variable bil menjadi variable bil1 dan bil2\n",
    "bil1, bil2 = map(int, bil.split())\n",
    "print(\"Bilangan pertama:\", bil1)\n",
    "print(\"Bilangan kedua:\", bil2)"
   ]
  },
  {
   "cell_type": "markdown",
   "metadata": {},
   "source": [
    "# Macam-macam Jenis Output Pada Phyton"
   ]
  },
  {
   "cell_type": "code",
   "execution_count": 5,
   "metadata": {},
   "outputs": [
    {
     "name": "stdout",
     "output_type": "stream",
     "text": [
      "Hallo  Dysya Umur anda: 19 IPK anda: 4.0\n",
      "Hallo Dysya, Umur anda: 19 IPK anda: 4.0\n",
      "Hallo Dysya, Umur anda: 19, IPK anda: 4.0\n",
      "Hallo Dysya, Umur anda: 19, IPK anda: 4.0\n"
     ]
    }
   ],
   "source": [
    "print(\"Hallo \", nama, \"Umur anda:\", umur, \"IPK anda:\", ipk)\n",
    "\n",
    "print(\"Hallo \"+ nama+ \", Umur anda:\", umur, \"IPK anda:\", ipk)\n",
    "\n",
    "print(\"Hallo %s, Umur anda: %i, IPK anda: %.1f\" % (nama, umur, ipk))\n",
    "\n",
    "print(f\"Hallo {nama}, Umur anda: {umur}, IPK anda: {ipk}\")"
   ]
  },
  {
   "cell_type": "markdown",
   "metadata": {},
   "source": [
    "# Struktur Runtunan"
   ]
  },
  {
   "cell_type": "markdown",
   "metadata": {},
   "source": [
    "# contoh menghitung luas dan keliling lingkaran"
   ]
  },
  {
   "cell_type": "code",
   "execution_count": 6,
   "metadata": {},
   "outputs": [
    {
     "name": "stdout",
     "output_type": "stream",
     "text": [
      "Pi = 3.14\n",
      "jari-jari = 7\n",
      "Luas lingkaran = 154.00\n"
     ]
    }
   ],
   "source": [
    "# Input\n",
    "pi = 22/7\n",
    "r = int(input(\"jari-jari = \"))\n",
    "\n",
    "# Proses menghitung luas lingkaran\n",
    "luas = pi * r * r\n",
    "\n",
    "# output luas lingkaran\n",
    "print(\"Pi = %.2f\" %pi)\n",
    "print(\"jari-jari =\", r)\n",
    "print(\"Luas lingkaran = %.2f\" %(luas))"
   ]
  }
 ],
 "metadata": {
  "kernelspec": {
   "display_name": "Python 3",
   "language": "python",
   "name": "python3"
  },
  "language_info": {
   "codemirror_mode": {
    "name": "ipython",
    "version": 3
   },
   "file_extension": ".py",
   "mimetype": "text/x-python",
   "name": "python",
   "nbconvert_exporter": "python",
   "pygments_lexer": "ipython3",
   "version": "3.12.2"
  }
 },
 "nbformat": 4,
 "nbformat_minor": 2
}
