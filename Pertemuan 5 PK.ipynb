{
 "cells": [
  {
   "cell_type": "markdown",
   "metadata": {},
   "source": [
    "# PERTEMUAN 5"
   ]
  },
  {
   "cell_type": "markdown",
   "metadata": {},
   "source": [
    "# Konstruksi For Loop"
   ]
  },
  {
   "cell_type": "markdown",
   "metadata": {},
   "source": [
    "# For Loop"
   ]
  },
  {
   "cell_type": "code",
   "execution_count": 1,
   "metadata": {},
   "outputs": [
    {
     "name": "stdout",
     "output_type": "stream",
     "text": [
      "apel\n",
      "pisang\n",
      "jeruk\n"
     ]
    }
   ],
   "source": [
    "fruits = [\"apel\", \"pisang\", \"jeruk\"]\n",
    "\n",
    "for i in fruits:\n",
    "    print(i)"
   ]
  },
  {
   "cell_type": "markdown",
   "metadata": {},
   "source": [
    "# For Loop menggunakan range dengan start, stop dan step"
   ]
  },
  {
   "cell_type": "code",
   "execution_count": 4,
   "metadata": {},
   "outputs": [
    {
     "name": "stdout",
     "output_type": "stream",
     "text": [
      "20\n",
      "40\n",
      "60\n",
      "80\n"
     ]
    }
   ],
   "source": [
    "for i in range (20, 100, 20):\n",
    "    print(i)"
   ]
  },
  {
   "cell_type": "markdown",
   "metadata": {},
   "source": [
    "# Konstruksi While Loop"
   ]
  },
  {
   "cell_type": "markdown",
   "metadata": {},
   "source": [
    "# While Loop Sederhana"
   ]
  },
  {
   "cell_type": "code",
   "execution_count": 5,
   "metadata": {},
   "outputs": [
    {
     "name": "stdout",
     "output_type": "stream",
     "text": [
      "20\n",
      "18\n",
      "16\n",
      "14\n",
      "12\n",
      "10\n",
      "8\n",
      "6\n",
      "4\n",
      "2\n"
     ]
    }
   ],
   "source": [
    "i = 20\n",
    "while i >= 2:\n",
    "    print(i)\n",
    "    i -= 2"
   ]
  },
  {
   "cell_type": "markdown",
   "metadata": {},
   "source": [
    "# While Loop tak terbatas (infinite loop)"
   ]
  },
  {
   "cell_type": "code",
   "execution_count": 11,
   "metadata": {},
   "outputs": [
    {
     "name": "stdout",
     "output_type": "stream",
     "text": [
      "1. Menghitung Luas Lingkaran\n",
      "2. Menghitung Luas Persegi Panjang\n",
      "3. Keluar dari program\n",
      "Luas Lingkaran = 452.57142857142856\n",
      "Luas Persegi Panjang = 50\n",
      "Pilihan tidak tersedia\n"
     ]
    }
   ],
   "source": [
    "print(\"1. Menghitung Luas Lingkaran\")\n",
    "print(\"2. Menghitung Luas Persegi Panjang\")\n",
    "print(\"3. Keluar dari program\")\n",
    "\n",
    "while True:\n",
    "    user_input = int(input(\"Masukkan pilihan anda\"))\n",
    "    if user_input == 1:\n",
    "        r = int(input(\"Masukkan jari-jari\"))\n",
    "        pi = 22/7\n",
    "        luas = pi * r * r \n",
    "        print(f\"Luas Lingkaran = {luas}\")\n",
    "    elif user_input == 2:\n",
    "        p = int(input(\"Masukkan panjang\"))\n",
    "        l = int(input(\"Masukkan Lebar\"))\n",
    "        luas = p * l \n",
    "        print(f\"Luas Persegi Panjang = {luas}\")\n",
    "    elif user_input == 3:\n",
    "        break\n",
    "    else: \n",
    "        print(\"Pilihan tidak tersedia\")\n"
   ]
  }
 ],
 "metadata": {
  "kernelspec": {
   "display_name": "Python 3",
   "language": "python",
   "name": "python3"
  },
  "language_info": {
   "name": "python",
   "version": "3.12.2"
  }
 },
 "nbformat": 4,
 "nbformat_minor": 2
}
