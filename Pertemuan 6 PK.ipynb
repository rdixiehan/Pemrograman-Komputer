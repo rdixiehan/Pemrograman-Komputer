{
 "cells": [
  {
   "cell_type": "markdown",
   "metadata": {},
   "source": [
    "# PERTEMUAN 6"
   ]
  },
  {
   "cell_type": "markdown",
   "metadata": {},
   "source": [
    "# PROSEDUR DAN FUNGSI"
   ]
  },
  {
   "cell_type": "markdown",
   "metadata": {},
   "source": [
    "# KONSTRUKSI PROSEDUR"
   ]
  },
  {
   "cell_type": "code",
   "execution_count": 1,
   "metadata": {},
   "outputs": [
    {
     "name": "stdout",
     "output_type": "stream",
     "text": [
      "Diagonal 1 = 4\n",
      "Diagonal 2 = 7\n",
      "Luas layang-layang = (0, 140)\n"
     ]
    }
   ],
   "source": [
    "def luas_layang(d1, d2):\n",
    "    print(f\"Diagonal 1 = {d1}\")\n",
    "    print(f\"Diagonal 2 = {d2}\")\n",
    "    print(f\"Luas layang-layang = {0,5 * d1 * d2}\")\n",
    "\n",
    "d1 = int(input(\"Masukkan diagonal 1\"))\n",
    "d2 = int(input(\"Masukkan diagonal 2\"))\n",
    "\n",
    "luas_layang(d1, d2)\n"
   ]
  },
  {
   "cell_type": "markdown",
   "metadata": {},
   "source": [
    "# KONSTRUKSI FUNGSI"
   ]
  },
  {
   "cell_type": "code",
   "execution_count": 1,
   "metadata": {},
   "outputs": [
    {
     "name": "stdout",
     "output_type": "stream",
     "text": [
      "Panjang = 5\n",
      "Lebar = 4\n",
      "Luas Persegi Panjang = 20\n"
     ]
    }
   ],
   "source": [
    "def luas_persegi_panjang(p, l):\n",
    "    luas = p * l \n",
    "    return luas\n",
    "\n",
    "p = int(input(\"Masukkan panjang\"))\n",
    "l = int(input(\"Masukkan lebar\"))\n",
    "\n",
    "hasil = luas_persegi_panjang(p, l)\n",
    "\n",
    "print(f\"Panjang = {p}\")\n",
    "print(f\"Lebar = {l}\")\n",
    "print(f\"Luas Persegi Panjang = {hasil}\")"
   ]
  }
 ],
 "metadata": {
  "kernelspec": {
   "display_name": "Python 3",
   "language": "python",
   "name": "python3"
  },
  "language_info": {
   "codemirror_mode": {
    "name": "ipython",
    "version": 3
   },
   "file_extension": ".py",
   "mimetype": "text/x-python",
   "name": "python",
   "nbconvert_exporter": "python",
   "pygments_lexer": "ipython3",
   "version": "3.12.2"
  }
 },
 "nbformat": 4,
 "nbformat_minor": 2
}
